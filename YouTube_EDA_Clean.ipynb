{
 "cells": [
  {
   "cell_type": "markdown",
   "id": "33a97ded",
   "metadata": {},
   "source": [
    "# YouTube Video Trend Analysis\n",
    "\n",
    "## Introduction\n",
    "YouTube is one of the largest video-sharing platforms in the world, with millions of videos uploaded and watched daily. Understanding what makes a video trend can be valuable for content creators, marketers, and analysts. In this project, we analyze a dataset of trending YouTube videos to uncover patterns and insights related to video popularity.\n",
    "\n",
    "Through this analysis, we hope to discover actionable insights that can help improve content strategy and audience engagement on YouTube.\n"
   ]
  },
  {
   "cell_type": "markdown",
   "id": "d7ff4f07-8766-40b0-84e2-90b6936b3023",
   "metadata": {},
   "source": [
    "![](https://cdn.pixabay.com/animation/2023/03/24/18/16/18-16-28-807_512.gif)"
   ]
  },
  {
   "cell_type": "markdown",
   "id": "e092456d",
   "metadata": {},
   "source": [
    "## 1. Import Libraries\n",
    "Import the necessary Python libraries."
   ]
  },
  {
   "cell_type": "code",
   "execution_count": null,
   "id": "199596bb",
   "metadata": {},
   "outputs": [],
   "source": [
    "import pandas as pd\n",
    "import numpy as np\n",
    "import plotly.express as px\n",
    "import matplotlib.pyplot as plt"
   ]
  },
  {
   "cell_type": "code",
   "execution_count": null,
   "id": "0155ea42",
   "metadata": {},
   "outputs": [],
   "source": [
    "youTube = pd.read_csv('youtube.csv')"
   ]
  },
  {
   "cell_type": "markdown",
   "id": "2640a96d",
   "metadata": {},
   "source": [
    "## 2. Load Dataset\n",
    "Load the YouTube dataset and inspect its structure."
   ]
  },
  {
   "cell_type": "code",
   "execution_count": null,
   "id": "effdd586",
   "metadata": {},
   "outputs": [],
   "source": [
    "youTube.head()"
   ]
  },
  {
   "cell_type": "markdown",
   "id": "784fd286",
   "metadata": {},
   "source": [
    "## 3. Initial Data Exploration\n",
    "- Check for missing values and duplicates.\n",
    "- Explore data types and unique values."
   ]
  },
  {
   "cell_type": "code",
   "execution_count": null,
   "id": "4a9e9aae",
   "metadata": {},
   "outputs": [],
   "source": [
    "# finding duplicates\n",
    "youTube.duplicated().sum()  # Check for duplicates in the DataFrame"
   ]
  },
  {
   "cell_type": "code",
   "execution_count": null,
   "id": "1be65426",
   "metadata": {},
   "outputs": [],
   "source": [
    "#finding dupicates in a video_id column\n",
    "youTube['video_id'].duplicated().sum()"
   ]
  },
  {
   "cell_type": "code",
   "execution_count": null,
   "id": "5f836b6b",
   "metadata": {},
   "outputs": [],
   "source": [
    "# exploring the data types\n",
    "youTube.dtypes "
   ]
  },
  {
   "cell_type": "markdown",
   "id": "bd193872",
   "metadata": {},
   "source": [
    "## 4. Data Cleaning\n",
    "- Handle duplicates\n",
    "- Convert date fields to datetime\n",
    "- Standardize category codes"
   ]
  },
  {
   "cell_type": "markdown",
   "id": "a2d04c29",
   "metadata": {},
   "source": [
    "## 5. Descriptive Statistics\n",
    "Get a statistical summary of numeric and categorical features."
   ]
  },
  {
   "cell_type": "code",
   "execution_count": null,
   "id": "ece45dbf",
   "metadata": {},
   "outputs": [],
   "source": [
    "# get a statistical summary of the data\n",
    "youTube.describe()"
   ]
  },
  {
   "cell_type": "markdown",
   "id": "2d3abb97-c3b4-4828-82ad-fd79a1a9a843",
   "metadata": {},
   "source": [
    "### Converting the dates to datetime format"
   ]
  },
  {
   "cell_type": "code",
   "execution_count": null,
   "id": "4fccf5f7",
   "metadata": {},
   "outputs": [],
   "source": [
    "youTube['publish_date'] = pd.to_datetime(youTube['publish_date'],dayfirst=True)"
   ]
  },
  {
   "cell_type": "code",
   "execution_count": null,
   "id": "5aa27c66",
   "metadata": {},
   "outputs": [],
   "source": [
    "youTube['trending_date'] = pd.to_datetime(youTube['trending_date'], format='%y.%d.%m')"
   ]
  },
  {
   "cell_type": "code",
   "execution_count": null,
   "id": "daf9241a",
   "metadata": {},
   "outputs": [],
   "source": [
    "youTube.head()"
   ]
  },
  {
   "cell_type": "code",
   "execution_count": null,
   "id": "2f0c478c-c66d-4960-b83d-cedfcb528152",
   "metadata": {},
   "outputs": [],
   "source": [
    "#create a new table based on grouping the data by video_id \n",
    "youTube_unique = youTube.drop_duplicates(subset='video_id', keep='first')"
   ]
  },
  {
   "cell_type": "code",
   "execution_count": null,
   "id": "225cf97e-c837-4992-b643-0e693678b01c",
   "metadata": {},
   "outputs": [],
   "source": [
    "youTube_unique.shape "
   ]
  },
  {
   "cell_type": "code",
   "execution_count": null,
   "id": "ff8d427d",
   "metadata": {},
   "outputs": [],
   "source": [
    "youTube_unique.head()"
   ]
  },
  {
   "cell_type": "markdown",
   "id": "4d8ccec5-d9dc-422e-b342-3a3c4b28262a",
   "metadata": {},
   "source": [
    "### Replae the category id with category names (for youtube table and youtube_unique)"
   ]
  },
  {
   "cell_type": "code",
   "execution_count": null,
   "id": "a8919d9f",
   "metadata": {},
   "outputs": [],
   "source": [
    "categories_typpe = pd.read_csv('categories_id.csv')"
   ]
  },
  {
   "cell_type": "code",
   "execution_count": null,
   "id": "6fa1c93a",
   "metadata": {},
   "outputs": [],
   "source": [
    "youTube['category_id'] = youTube['category_id'].replace(categories_typpe.set_index('category_id')['category'].to_dict())\n",
    "# change the column name category_id to category\n",
    "youTube.rename(columns={'category_id': 'category'}, inplace=True)\n",
    "youTube.head()"
   ]
  },
  {
   "cell_type": "code",
   "execution_count": null,
   "id": "442c8cee-1cd5-4a38-a222-d8d379ee8416",
   "metadata": {},
   "outputs": [],
   "source": [
    "youTube_unique['category_id'] = youTube_unique['category_id'].replace(categories_typpe.set_index('category_id')['category'].to_dict())\n",
    "# change the column name category_id to category\n",
    "youTube_unique.rename(columns={'category_id': 'category'}, inplace=True)\n",
    "youTube_unique.head()"
   ]
  },
  {
   "cell_type": "markdown",
   "id": "62d620f0",
   "metadata": {},
   "source": [
    "## 7. Insights"
   ]
  },
  {
   "cell_type": "markdown",
   "id": "dcf3d517-01ce-4711-8b59-ec1408331404",
   "metadata": {},
   "source": [
    "## 1- What are the Top 10 Trending YouTube Categories?"
   ]
  },
  {
   "cell_type": "code",
   "execution_count": null,
   "id": "d06c33dc",
   "metadata": {},
   "outputs": [],
   "source": [
    "# Group the DataFrame by 'category' and count the number of videos in each category\n",
    "trending_videos_by_category = youTube_unique.groupby('category').size().reset_index(name='count')\n",
    "\n",
    "# Sort the DataFrame by 'count'\n",
    "trending_videos_by_category = trending_videos_by_category.sort_values(by='count', ascending=False)\n",
    "trending_videos_by_category.reset_index(drop=True, inplace=True)\n",
    "\n",
    "trending_videos_by_category.head(10)"
   ]
  },
  {
   "cell_type": "code",
   "execution_count": null,
   "id": "3bc2a6a7-3713-4de1-ac5f-43a707041de6",
   "metadata": {},
   "outputs": [],
   "source": [
    "fig = px.bar(trending_videos_by_category.head(10),x='count',y='category',\n",
    "       title='Top 10 Trending YouTube Categories',text='count',color_discrete_sequence=['red']) \n",
    "\n",
    "fig.update_layout(\n",
    "    plot_bgcolor='white',paper_bgcolor='white', title_x=0.5)\n",
    "\n",
    "fig.show()"
   ]
  },
  {
   "cell_type": "markdown",
   "id": "7447562f-c3c3-4a36-a973-fc407747ce52",
   "metadata": {},
   "source": [
    "## 2- How many videos published eventually became trending per month?"
   ]
  },
  {
   "cell_type": "code",
   "execution_count": null,
   "id": "c374ee14-5133-4458-a1e8-6f16f7b9951a",
   "metadata": {},
   "outputs": [],
   "source": [
    "youTube_unique['trending_month'] = youTube_unique['trending_date'].dt.month\n",
    "monthly_trends = youTube_unique.groupby('trending_month').size().reset_index(name ='Number of Trending Videos')\n",
    "monthly_trends"
   ]
  },
  {
   "cell_type": "markdown",
   "id": "d2322ed3-42bd-4fe8-ba9b-91b1ed543ee4",
   "metadata": {},
   "source": [
    "#### there are 4 months that no video became a trend on them"
   ]
  },
  {
   "cell_type": "code",
   "execution_count": null,
   "id": "c365c8c6-9e90-473b-b9ce-d2fc36862ca0",
   "metadata": {},
   "outputs": [],
   "source": [
    "fig = px.line(\n",
    "    monthly_trends,x='trending_month', y='Number of Trending Videos',\n",
    "    title='Videos to become trending per month',markers=True,text='Number of Trending Videos',\n",
    "    color_discrete_sequence=['red'])\n",
    "\n",
    "fig.update_traces(\n",
    "    textposition='top center')\n",
    "\n",
    "fig.update_layout(plot_bgcolor='white')\n",
    "\n",
    "fig.show()"
   ]
  },
  {
   "cell_type": "code",
   "execution_count": null,
   "id": "8dc7b613",
   "metadata": {},
   "outputs": [],
   "source": [
    "youTube_unique['trending_days'] = (youTube_unique['trending_date'] - youTube_unique['publish_date']).dt.days\n",
    "\n",
    "avg_trending_days = youTube_unique.groupby('category')['trending_days'].mean().reset_index().round(1).sort_values(by='trending_days', ascending=True)\n",
    "\n",
    "fig = px.line( avg_trending_days,x='category', y='trending_days',\n",
    "    title='Average Number of Days to Trend by Category',\n",
    "    markers=True, text='trending_days', color_discrete_sequence=['red'])\n",
    "\n",
    "fig.update_traces(textposition='top center' )\n",
    "\n",
    "fig.update_layout(plot_bgcolor='white')\n",
    "\n",
    "fig.show()"
   ]
  },
  {
   "cell_type": "markdown",
   "id": "8f305455-669b-4250-864b-caf0f269f7d0",
   "metadata": {},
   "source": [
    "## 3- What Countries has Most Published Videos?"
   ]
  },
  {
   "cell_type": "code",
   "execution_count": null,
   "id": "1ad1b48f",
   "metadata": {},
   "outputs": [],
   "source": [
    "country_most_published = youTube_unique.groupby('publish_country')['video_id'].count().reset_index(name='count')\n",
    "country_most_published.reset_index(drop=True, inplace=True)\n",
    "country_most_published "
   ]
  },
  {
   "cell_type": "code",
   "execution_count": null,
   "id": "e45de2e8",
   "metadata": {},
   "outputs": [],
   "source": [
    "fig = px.pie(\n",
    "    country_most_published,values='count',names='publish_country',\n",
    "    title='Countries with Most Published Videos',\n",
    "    color_discrete_sequence=px.colors.sequential.RdBu ) \n",
    "\n",
    "fig.update_traces(\n",
    "    textposition='inside',textinfo='percent+label')\n",
    "\n",
    "\n",
    "fig.show()"
   ]
  },
  {
   "cell_type": "markdown",
   "id": "05a75222-7e33-46ab-a08b-4fe8d2c6c9c6",
   "metadata": {},
   "source": [
    "## 4- What Countries has Most trending Videos?"
   ]
  },
  {
   "cell_type": "code",
   "execution_count": null,
   "id": "d796c484-cf4f-4b5e-b7fd-409c395f6e6e",
   "metadata": {},
   "outputs": [],
   "source": [
    "country_most_trending = youTube.groupby('publish_country')['video_id'].count().reset_index(name='count')\n",
    "country_most_trending.reset_index(drop=True, inplace=True)\n",
    "country_most_trending"
   ]
  },
  {
   "cell_type": "code",
   "execution_count": null,
   "id": "8e256da9",
   "metadata": {},
   "outputs": [],
   "source": [
    "fig = px.pie(\n",
    "    country_most_trending,values='count', names='publish_country',\n",
    "    title='Countries with Most Trending Videos',\n",
    "    \n",
    "    color_discrete_sequence=px.colors.sequential.RdBu\n",
    ")\n",
    "fig.update_traces(\n",
    "    textposition='inside',\n",
    "    textinfo='percent+label')\n",
    "\n",
    "fig.show()"
   ]
  },
  {
   "cell_type": "markdown",
   "id": "ef85c7fa-2e6f-4761-a709-a90448d833fa",
   "metadata": {},
   "source": [
    "## 5- What channel has Most published Videos?"
   ]
  },
  {
   "cell_type": "code",
   "execution_count": null,
   "id": "6a1d5db4-ea26-4b50-b143-be2690e5106d",
   "metadata": {},
   "outputs": [],
   "source": [
    "top_channels_published = youTube_unique.groupby('channel_title')['video_id'].count().reset_index(name='count').sort_values(by='count', ascending=False)\n",
    "top_channels_published.reset_index(drop=True, inplace=True)\n",
    "top_channels_published.head(10)"
   ]
  },
  {
   "cell_type": "code",
   "execution_count": null,
   "id": "38da8627",
   "metadata": {},
   "outputs": [],
   "source": [
    "fig = px.funnel(\n",
    "    top_channels_published.head(10),x='count',y='channel_title',\n",
    "    title='Top 10 Channels with Most Published Videos',\n",
    "    color_discrete_sequence=['red'])\n",
    "\n",
    "fig.update_traces(textposition='inside',textinfo='label+value')\n",
    "\n",
    "fig.update_layout(plot_bgcolor='white')\n",
    "\n",
    "fig.show()"
   ]
  },
  {
   "cell_type": "markdown",
   "id": "3db5e5a9-3b0b-451b-9561-cd91c3f18056",
   "metadata": {},
   "source": [
    "## 6- What channel has Most Trending Videos?"
   ]
  },
  {
   "cell_type": "code",
   "execution_count": null,
   "id": "0a3fb79d-fd25-47bf-a87d-95abebe0b508",
   "metadata": {},
   "outputs": [],
   "source": [
    "top_channels_trending = youTube.groupby('channel_title')['video_id'].count().reset_index(name='count').sort_values(by='count', ascending=False)\n",
    "top_channels_trending.reset_index(drop=True, inplace=True)\n",
    "top_channels_trending.head(10)"
   ]
  },
  {
   "cell_type": "code",
   "execution_count": null,
   "id": "8d21b1c5",
   "metadata": {},
   "outputs": [],
   "source": [
    "fig = px.funnel(top_channels_trending.head(10),x='count', y='channel_title',\n",
    "    title='Top 10 Channels with Most Trending Videos',\n",
    "    color_discrete_sequence=['red'])\n",
    "\n",
    "fig.update_traces(\n",
    "    textposition='inside',textinfo='label+value')\n",
    "\n",
    "fig.update_layout(plot_bgcolor='white')\n",
    "fig.show()"
   ]
  },
  {
   "cell_type": "markdown",
   "id": "c1ffbbbe-8398-4683-8617-3c4d70112fd3",
   "metadata": {},
   "source": [
    "## 7- What are the most common days and times for videos to be published on YouTube?"
   ]
  },
  {
   "cell_type": "code",
   "execution_count": null,
   "id": "d524d006-81e5-4f54-bca6-7f7f120872ce",
   "metadata": {},
   "outputs": [],
   "source": [
    "publish_pattern = (youTube.groupby(['published_day_of_week', 'time_frame']).size().reset_index(name='count'))\n",
    "publish_pattern.sort_values(['time_frame'], inplace=True)\n",
    "\n",
    "fig = px.density_heatmap(publish_pattern,x='time_frame',y='published_day_of_week',z='count',\n",
    "    title='Most Common Publishing Days and Times',\n",
    "    labels={'count': 'Number of Videos'},color_continuous_scale='Reds')\n",
    "fig.show()\n"
   ]
  },
  {
   "cell_type": "markdown",
   "id": "7c8aaa7c-5730-4cec-a350-6920c5d95b6d",
   "metadata": {},
   "source": [
    "## 8-How do views and likes vary across different YouTube categories?"
   ]
  },
  {
   "cell_type": "code",
   "execution_count": null,
   "id": "20dc5e04",
   "metadata": {},
   "outputs": [],
   "source": [
    "\n",
    "fig = px.scatter( youTube_unique,x='views', y='likes',size='comment_count',color='category',\n",
    "                 \n",
    "    size_max=50,\n",
    "    labels={\n",
    "        'views': 'Views',\n",
    "        'likes': 'Likes',\n",
    "        'comment_count': 'Comments',\n",
    "        'category': 'Category'})\n",
    "fig.update_layout(plot_bgcolor='white')\n",
    "\n",
    "fig.show()  "
   ]
  },
  {
   "cell_type": "markdown",
   "id": "655a9be0-d02a-441c-9a4c-1e02e46bc73d",
   "metadata": {},
   "source": [
    "## 9- What is the correlation between views, likes, and dislikes on trending YouTube videos?"
   ]
  },
  {
   "cell_type": "code",
   "execution_count": null,
   "id": "17e80e94",
   "metadata": {},
   "outputs": [],
   "source": [
    "px.imshow(youTube[['views', 'likes', 'dislikes', 'comment_count']].corr(numeric_only=True),\n",
    "          text_auto=True, title='Correlation Matrix of Views, Likes, Dislikes, and Comment Count', color_continuous_scale='Reds').show()"
   ]
  },
  {
   "cell_type": "code",
   "execution_count": null,
   "id": "651f79c7",
   "metadata": {},
   "outputs": [],
   "source": [
    "fig = px.bar(\n",
    "    youTube_unique.groupby('comments_disabled')['views'].mean().reset_index(),\n",
    "    x='comments_disabled',\n",
    "    y='views',\n",
    "    title='Total Views by Comment Status',\n",
    "    text='views',\n",
    "    color_discrete_sequence=['red']\n",
    ")\n",
    "\n",
    "fig.update_layout(\n",
    "    plot_bgcolor='white')\n",
    "\n",
    "fig.show()\n"
   ]
  },
  {
   "cell_type": "code",
   "execution_count": null,
   "id": "151230c2",
   "metadata": {},
   "outputs": [],
   "source": []
  },
  {
   "cell_type": "code",
   "execution_count": null,
   "id": "c5d82ea1",
   "metadata": {},
   "outputs": [],
   "source": []
  }
 ],
 "metadata": {
  "kernelspec": {
   "display_name": "Python 3 (ipykernel)",
   "language": "python",
   "name": "python3"
  },
  "language_info": {
   "codemirror_mode": {
    "name": "ipython",
    "version": 3
   },
   "file_extension": ".py",
   "mimetype": "text/x-python",
   "name": "python",
   "nbconvert_exporter": "python",
   "pygments_lexer": "ipython3",
   "version": "3.12.9"
  }
 },
 "nbformat": 4,
 "nbformat_minor": 5
}
